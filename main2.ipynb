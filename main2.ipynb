{
 "cells": [
  {
   "cell_type": "code",
   "execution_count": 12,
   "metadata": {},
   "outputs": [],
   "source": [
    "import pandas as pd\n",
    "import sqlite3\n",
    "import json\n",
    "\n",
    "df = pd.read_csv('chatbot_arena_train.csv')\n",
    "\n",
    "model_as = []\n",
    "model_bs = []\n",
    "winners = []\n",
    "user_prompts = []\n",
    "embeddings = []\n",
    "\n",
    "for index, row in df.iterrows():\n",
    "    model_as.append(row['model_a'])\n",
    "    model_bs.append(row['model_b'])\n",
    "    winners.append(row['winner'])\n",
    "    user_prompts.append(row['user_prompt'])\n",
    "    embed = json.loads(row['embeddings'].replace(\"'\", \"\\\"\"))\n",
    "    embedd = embed['embedding']\n",
    "    embeddings.append(str(embedd))\n",
    "\n",
    "new_df = pd.DataFrame({\n",
    "    'model_a': model_as,\n",
    "    'model_b': model_bs,\n",
    "    'winner': winners,\n",
    "    'user_prompt': user_prompts,\n",
    "    'embedding': embeddings\n",
    "})\n",
    "\n",
    "conn = sqlite3.connect('chatbot_arena.db')\n",
    "new_df.to_sql('chatbot_arena', conn, if_exists='replace', index=False)\n",
    "conn.close()"
   ]
  }
 ],
 "metadata": {
  "kernelspec": {
   "display_name": "venv",
   "language": "python",
   "name": "python3"
  },
  "language_info": {
   "codemirror_mode": {
    "name": "ipython",
    "version": 3
   },
   "file_extension": ".py",
   "mimetype": "text/x-python",
   "name": "python",
   "nbconvert_exporter": "python",
   "pygments_lexer": "ipython3",
   "version": "3.11.9"
  }
 },
 "nbformat": 4,
 "nbformat_minor": 2
}
